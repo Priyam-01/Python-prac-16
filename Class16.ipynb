{
 "cells": [
  {
   "cell_type": "code",
   "execution_count": 1,
   "id": "8b9256e9",
   "metadata": {},
   "outputs": [],
   "source": [
    "class car():\n",
    "    \n",
    "    def engine(self): #method\n",
    "        print(\"car engine\")\n",
    "        \n",
    "    def acc(self):\n",
    "        print(\"car acc\")"
   ]
  },
  {
   "cell_type": "code",
   "execution_count": 2,
   "id": "1f5f50aa",
   "metadata": {},
   "outputs": [],
   "source": [
    "class bike():\n",
    "    def engine(self):\n",
    "        print(\"bike engine\")\n",
    "        \n",
    "    def acc(self):\n",
    "        print(\"bike acc\")"
   ]
  },
  {
   "cell_type": "code",
   "execution_count": 3,
   "id": "e73b3240",
   "metadata": {},
   "outputs": [],
   "source": [
    "a = car()"
   ]
  },
  {
   "cell_type": "code",
   "execution_count": 4,
   "id": "5345a7ca",
   "metadata": {},
   "outputs": [
    {
     "name": "stdout",
     "output_type": "stream",
     "text": [
      "<__main__.car object at 0x000001F4F8475DD0>\n"
     ]
    }
   ],
   "source": [
    "print(a)"
   ]
  },
  {
   "cell_type": "code",
   "execution_count": 5,
   "id": "85d9b7c0",
   "metadata": {},
   "outputs": [
    {
     "name": "stdout",
     "output_type": "stream",
     "text": [
      "car engine\n"
     ]
    }
   ],
   "source": [
    "a.engine()"
   ]
  },
  {
   "cell_type": "code",
   "execution_count": 6,
   "id": "994ec25c",
   "metadata": {},
   "outputs": [
    {
     "name": "stdout",
     "output_type": "stream",
     "text": [
      "car acc\n"
     ]
    }
   ],
   "source": [
    "a.acc()"
   ]
  },
  {
   "cell_type": "code",
   "execution_count": 7,
   "id": "e2261118",
   "metadata": {},
   "outputs": [],
   "source": [
    "class calc():\n",
    "    \n",
    "    def add(self,a,b):\n",
    "        return a + b\n",
    "    \n",
    "    def sub(self, a, b):\n",
    "        return a-b"
   ]
  },
  {
   "cell_type": "code",
   "execution_count": 8,
   "id": "9ad30b62",
   "metadata": {},
   "outputs": [],
   "source": [
    "a = calc()"
   ]
  },
  {
   "cell_type": "code",
   "execution_count": 9,
   "id": "d2852865",
   "metadata": {},
   "outputs": [
    {
     "name": "stdout",
     "output_type": "stream",
     "text": [
      "9\n"
     ]
    }
   ],
   "source": [
    "b = a.add(5,4)\n",
    "print(b)"
   ]
  },
  {
   "cell_type": "code",
   "execution_count": 10,
   "id": "b3bffefb",
   "metadata": {},
   "outputs": [],
   "source": [
    "#constructor"
   ]
  },
  {
   "cell_type": "code",
   "execution_count": 11,
   "id": "e5bea1ff",
   "metadata": {},
   "outputs": [],
   "source": [
    "class hotel():\n",
    "    \n",
    "    def floor(self, a):\n",
    "        if a == 1:\n",
    "            print(\"veg\")\n",
    "        if a == 2:\n",
    "            print(\"nonveg\")\n",
    "            \n",
    "    def dish(self, a):\n",
    "        if a == 1:\n",
    "            print(\"dal rice\")\n",
    "        if a == 2:\n",
    "            print(\"nv food\")"
   ]
  },
  {
   "cell_type": "code",
   "execution_count": 12,
   "id": "f14e93d0",
   "metadata": {},
   "outputs": [
    {
     "name": "stdout",
     "output_type": "stream",
     "text": [
      "veg\n",
      "dal rice\n"
     ]
    }
   ],
   "source": [
    "a = hotel()\n",
    "a.floor(1)\n",
    "a.dish(1)"
   ]
  },
  {
   "cell_type": "code",
   "execution_count": 14,
   "id": "ea81e9e1",
   "metadata": {},
   "outputs": [
    {
     "name": "stdout",
     "output_type": "stream",
     "text": [
      "veg\n",
      "nv food\n"
     ]
    }
   ],
   "source": [
    "a = hotel()\n",
    "a.floor(1)\n",
    "a.dish(2)"
   ]
  },
  {
   "cell_type": "code",
   "execution_count": 15,
   "id": "469d8305",
   "metadata": {},
   "outputs": [],
   "source": [
    "class hotel():\n",
    "    def __init__(self, a):\n",
    "        print(\"inside constructor\")\n",
    "        self.a = a\n",
    "        \n",
    "    def floor(self):\n",
    "        if self.a == 1:\n",
    "            print(\"veg\")\n",
    "        if self.a == 2:\n",
    "            print(\"nonveg\")\n",
    "            \n",
    "    def dish(self):\n",
    "        if self.a == 1:\n",
    "            print(\"veg food\")\n",
    "        if self.a == 2:\n",
    "            print(\"nv food\")"
   ]
  },
  {
   "cell_type": "code",
   "execution_count": 16,
   "id": "a4442e04",
   "metadata": {},
   "outputs": [
    {
     "name": "stdout",
     "output_type": "stream",
     "text": [
      "inside constructor\n"
     ]
    }
   ],
   "source": [
    "obj = hotel(1)"
   ]
  },
  {
   "cell_type": "code",
   "execution_count": 17,
   "id": "63795540",
   "metadata": {},
   "outputs": [
    {
     "data": {
      "text/plain": [
       "1"
      ]
     },
     "execution_count": 17,
     "metadata": {},
     "output_type": "execute_result"
    }
   ],
   "source": [
    "obj.a"
   ]
  },
  {
   "cell_type": "code",
   "execution_count": 18,
   "id": "9ace04ae",
   "metadata": {},
   "outputs": [
    {
     "name": "stdout",
     "output_type": "stream",
     "text": [
      "veg\n",
      "veg food\n"
     ]
    }
   ],
   "source": [
    "obj.floor()\n",
    "obj.dish()"
   ]
  },
  {
   "cell_type": "code",
   "execution_count": 19,
   "id": "1d800d51",
   "metadata": {},
   "outputs": [
    {
     "name": "stdout",
     "output_type": "stream",
     "text": [
      "inside constructor\n"
     ]
    }
   ],
   "source": [
    "obj2 = hotel(2)"
   ]
  },
  {
   "cell_type": "code",
   "execution_count": 20,
   "id": "126fefc3",
   "metadata": {},
   "outputs": [
    {
     "name": "stdout",
     "output_type": "stream",
     "text": [
      "nv food\n"
     ]
    }
   ],
   "source": [
    "obj2.dish()"
   ]
  },
  {
   "cell_type": "code",
   "execution_count": 21,
   "id": "e410a081",
   "metadata": {},
   "outputs": [
    {
     "name": "stdout",
     "output_type": "stream",
     "text": [
      "nonveg\n"
     ]
    }
   ],
   "source": [
    "obj2.floor()"
   ]
  },
  {
   "cell_type": "code",
   "execution_count": 22,
   "id": "0cf7240b",
   "metadata": {},
   "outputs": [],
   "source": [
    "#create a constructor\n",
    "#addition of two number"
   ]
  },
  {
   "cell_type": "code",
   "execution_count": 44,
   "id": "de601c92",
   "metadata": {},
   "outputs": [],
   "source": [
    "class add():\n",
    "    \n",
    "    def __init__(self, a, b):\n",
    "        self.a = a\n",
    "        self.b = b\n",
    "        \n",
    "    def addition(self):\n",
    "        return self.a + self.b\n",
    "    \n",
    "obj = add(2,6)"
   ]
  },
  {
   "cell_type": "code",
   "execution_count": 45,
   "id": "013af1bf",
   "metadata": {},
   "outputs": [
    {
     "data": {
      "text/plain": [
       "8"
      ]
     },
     "execution_count": 45,
     "metadata": {},
     "output_type": "execute_result"
    }
   ],
   "source": [
    "obj.addition()"
   ]
  },
  {
   "cell_type": "code",
   "execution_count": 48,
   "id": "42c632a8",
   "metadata": {},
   "outputs": [
    {
     "data": {
      "text/plain": [
       "6"
      ]
     },
     "execution_count": 48,
     "metadata": {},
     "output_type": "execute_result"
    }
   ],
   "source": [
    "class substract():\n",
    "    \n",
    "    def __init__(self, a, b):\n",
    "        self.a = a\n",
    "        self.b = b\n",
    "    def subst(self):\n",
    "        return self.a - self.b\n",
    "    \n",
    "a = substract(10,4)\n",
    "\n",
    "a.subst()\n",
    "\n",
    "# print(a)\n",
    "    "
   ]
  },
  {
   "cell_type": "code",
   "execution_count": 49,
   "id": "0e95372e",
   "metadata": {},
   "outputs": [
    {
     "data": {
      "text/plain": [
       "2.0"
      ]
     },
     "execution_count": 49,
     "metadata": {},
     "output_type": "execute_result"
    }
   ],
   "source": [
    "#Class without constructor\n",
    "\n",
    "class division():\n",
    "    \n",
    "    def div(self,a , b): #function inside class is called method\n",
    "        return a / b\n",
    "    \n",
    "d = division()\n",
    "\n",
    "d.div(10,5)"
   ]
  },
  {
   "cell_type": "code",
   "execution_count": 51,
   "id": "2de64a94",
   "metadata": {},
   "outputs": [
    {
     "data": {
      "text/plain": [
       "2.0"
      ]
     },
     "execution_count": 51,
     "metadata": {},
     "output_type": "execute_result"
    }
   ],
   "source": [
    "#Class with constructor\n",
    "\n",
    "class division():\n",
    "    \n",
    "    def __init__(self, a, b):\n",
    "        self.a = a\n",
    "        self.b = b\n",
    "        \n",
    "    def div(self):\n",
    "        return self.a /self.b\n",
    "    \n",
    "    \n",
    "d = division(10,5)\n",
    "\n",
    "d.div()\n"
   ]
  },
  {
   "cell_type": "code",
   "execution_count": 52,
   "id": "677859b6",
   "metadata": {},
   "outputs": [
    {
     "data": {
      "text/plain": [
       "10"
      ]
     },
     "execution_count": 52,
     "metadata": {},
     "output_type": "execute_result"
    }
   ],
   "source": [
    "class multiplication():\n",
    "    \n",
    "    def __init__(self, a, b):\n",
    "        self.a = a\n",
    "        self.b = b\n",
    "        \n",
    "    def mult(self):\n",
    "        return self.a * self.b\n",
    "    \n",
    "m = multiplication(5,2)\n",
    "\n",
    "m.mult()"
   ]
  },
  {
   "cell_type": "code",
   "execution_count": null,
   "id": "7be5fed2",
   "metadata": {},
   "outputs": [],
   "source": []
  }
 ],
 "metadata": {
  "kernelspec": {
   "display_name": "Python 3 (ipykernel)",
   "language": "python",
   "name": "python3"
  },
  "language_info": {
   "codemirror_mode": {
    "name": "ipython",
    "version": 3
   },
   "file_extension": ".py",
   "mimetype": "text/x-python",
   "name": "python",
   "nbconvert_exporter": "python",
   "pygments_lexer": "ipython3",
   "version": "3.11.5"
  }
 },
 "nbformat": 4,
 "nbformat_minor": 5
}
