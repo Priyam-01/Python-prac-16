{
 "cells": [
  {
   "cell_type": "code",
   "execution_count": 1,
   "id": "f86dc74c",
   "metadata": {},
   "outputs": [],
   "source": [
    "class car():\n",
    "    \n",
    "    def engine(self): #method\n",
    "        print(\"car engine\")\n",
    "        \n",
    "    def acc(self):\n",
    "        print(\"car acc\")"
   ]
  },
  {
   "cell_type": "code",
   "execution_count": 2,
   "id": "b6e768f5",
   "metadata": {},
   "outputs": [],
   "source": [
    "class bike():\n",
    "    def engine(self):\n",
    "        print(\"bike engine\")\n",
    "        \n",
    "    def acc(self):\n",
    "        print(\"bike acc\")"
   ]
  },
  {
   "cell_type": "code",
   "execution_count": 3,
   "id": "b0515473",
   "metadata": {},
   "outputs": [],
   "source": [
    "a = car()"
   ]
  },
  {
   "cell_type": "code",
   "execution_count": 4,
   "id": "b7bbbb4c",
   "metadata": {},
   "outputs": [
    {
     "name": "stdout",
     "output_type": "stream",
     "text": [
      "<__main__.car object at 0x000001F4F8475DD0>\n"
     ]
    }
   ],
   "source": [
    "print(a)"
   ]
  },
  {
   "cell_type": "code",
   "execution_count": 5,
   "id": "fd299981",
   "metadata": {},
   "outputs": [
    {
     "name": "stdout",
     "output_type": "stream",
     "text": [
      "car engine\n"
     ]
    }
   ],
   "source": [
    "a.engine()"
   ]
  },
  {
   "cell_type": "code",
   "execution_count": 6,
   "id": "cefc497f",
   "metadata": {},
   "outputs": [
    {
     "name": "stdout",
     "output_type": "stream",
     "text": [
      "car acc\n"
     ]
    }
   ],
   "source": [
    "a.acc()"
   ]
  },
  {
   "cell_type": "code",
   "execution_count": 7,
   "id": "3898f6df",
   "metadata": {},
   "outputs": [],
   "source": [
    "class calc():\n",
    "    \n",
    "    def add(self,a,b):\n",
    "        return a + b\n",
    "    \n",
    "    def sub(self, a, b):\n",
    "        return a-b"
   ]
  },
  {
   "cell_type": "code",
   "execution_count": 8,
   "id": "1d0f81ce",
   "metadata": {},
   "outputs": [],
   "source": [
    "a = calc()"
   ]
  },
  {
   "cell_type": "code",
   "execution_count": 9,
   "id": "9640139b",
   "metadata": {},
   "outputs": [
    {
     "name": "stdout",
     "output_type": "stream",
     "text": [
      "9\n"
     ]
    }
   ],
   "source": [
    "b = a.add(5,4)\n",
    "print(b)"
   ]
  },
  {
   "cell_type": "code",
   "execution_count": 10,
   "id": "c91c01a9",
   "metadata": {},
   "outputs": [],
   "source": [
    "#constructor"
   ]
  },
  {
   "cell_type": "code",
   "execution_count": 11,
   "id": "9e512f59",
   "metadata": {},
   "outputs": [],
   "source": [
    "class hotel():\n",
    "    \n",
    "    def floor(self, a):\n",
    "        if a == 1:\n",
    "            print(\"veg\")\n",
    "        if a == 2:\n",
    "            print(\"nonveg\")\n",
    "            \n",
    "    def dish(self, a):\n",
    "        if a == 1:\n",
    "            print(\"dal rice\")\n",
    "        if a == 2:\n",
    "            print(\"nv food\")"
   ]
  },
  {
   "cell_type": "code",
   "execution_count": 12,
   "id": "5008dfa8",
   "metadata": {},
   "outputs": [
    {
     "name": "stdout",
     "output_type": "stream",
     "text": [
      "veg\n",
      "dal rice\n"
     ]
    }
   ],
   "source": [
    "a = hotel()\n",
    "a.floor(1)\n",
    "a.dish(1)"
   ]
  },
  {
   "cell_type": "code",
   "execution_count": 14,
   "id": "b8d4f95c",
   "metadata": {},
   "outputs": [
    {
     "name": "stdout",
     "output_type": "stream",
     "text": [
      "veg\n",
      "nv food\n"
     ]
    }
   ],
   "source": [
    "a = hotel()\n",
    "a.floor(1)\n",
    "a.dish(2)"
   ]
  },
  {
   "cell_type": "code",
   "execution_count": 15,
   "id": "13e25ead",
   "metadata": {},
   "outputs": [],
   "source": [
    "class hotel():\n",
    "    def __init__(self, a):\n",
    "        print(\"inside constructor\")\n",
    "        self.a = a\n",
    "        \n",
    "    def floor(self):\n",
    "        if self.a == 1:\n",
    "            print(\"veg\")\n",
    "        if self.a == 2:\n",
    "            print(\"nonveg\")\n",
    "            \n",
    "    def dish(self):\n",
    "        if self.a == 1:\n",
    "            print(\"veg food\")\n",
    "        if self.a == 2:\n",
    "            print(\"nv food\")"
   ]
  },
  {
   "cell_type": "code",
   "execution_count": 16,
   "id": "a17f020c",
   "metadata": {},
   "outputs": [
    {
     "name": "stdout",
     "output_type": "stream",
     "text": [
      "inside constructor\n"
     ]
    }
   ],
   "source": [
    "obj = hotel(1)"
   ]
  },
  {
   "cell_type": "code",
   "execution_count": 17,
   "id": "30f1fcef",
   "metadata": {},
   "outputs": [
    {
     "data": {
      "text/plain": [
       "1"
      ]
     },
     "execution_count": 17,
     "metadata": {},
     "output_type": "execute_result"
    }
   ],
   "source": [
    "obj.a"
   ]
  },
  {
   "cell_type": "code",
   "execution_count": 18,
   "id": "d09904ec",
   "metadata": {},
   "outputs": [
    {
     "name": "stdout",
     "output_type": "stream",
     "text": [
      "veg\n",
      "veg food\n"
     ]
    }
   ],
   "source": [
    "obj.floor()\n",
    "obj.dish()"
   ]
  },
  {
   "cell_type": "code",
   "execution_count": 19,
   "id": "18510d20",
   "metadata": {},
   "outputs": [
    {
     "name": "stdout",
     "output_type": "stream",
     "text": [
      "inside constructor\n"
     ]
    }
   ],
   "source": [
    "obj2 = hotel(2)"
   ]
  },
  {
   "cell_type": "code",
   "execution_count": 20,
   "id": "21739a34",
   "metadata": {},
   "outputs": [
    {
     "name": "stdout",
     "output_type": "stream",
     "text": [
      "nv food\n"
     ]
    }
   ],
   "source": [
    "obj2.dish()"
   ]
  },
  {
   "cell_type": "code",
   "execution_count": 21,
   "id": "63f11ae3",
   "metadata": {},
   "outputs": [
    {
     "name": "stdout",
     "output_type": "stream",
     "text": [
      "nonveg\n"
     ]
    }
   ],
   "source": [
    "obj2.floor()"
   ]
  },
  {
   "cell_type": "code",
   "execution_count": 22,
   "id": "737a140e",
   "metadata": {},
   "outputs": [],
   "source": [
    "#create a constructor\n",
    "#addition of two number"
   ]
  },
  {
   "cell_type": "code",
   "execution_count": 44,
   "id": "e6e47b15",
   "metadata": {},
   "outputs": [],
   "source": [
    "class add():\n",
    "    \n",
    "    def __init__(self, a, b):\n",
    "        self.a = a\n",
    "        self.b = b\n",
    "        \n",
    "    def addition(self):\n",
    "        return self.a + self.b\n",
    "    \n",
    "obj = add(2,6)"
   ]
  },
  {
   "cell_type": "code",
   "execution_count": 45,
   "id": "c7356793",
   "metadata": {},
   "outputs": [
    {
     "data": {
      "text/plain": [
       "8"
      ]
     },
     "execution_count": 45,
     "metadata": {},
     "output_type": "execute_result"
    }
   ],
   "source": [
    "obj.addition()"
   ]
  },
  {
   "cell_type": "code",
   "execution_count": null,
   "id": "7c986816",
   "metadata": {},
   "outputs": [],
   "source": []
  }
 ],
 "metadata": {
  "kernelspec": {
   "display_name": "Python 3 (ipykernel)",
   "language": "python",
   "name": "python3"
  },
  "language_info": {
   "codemirror_mode": {
    "name": "ipython",
    "version": 3
   },
   "file_extension": ".py",
   "mimetype": "text/x-python",
   "name": "python",
   "nbconvert_exporter": "python",
   "pygments_lexer": "ipython3",
   "version": "3.11.5"
  }
 },
 "nbformat": 4,
 "nbformat_minor": 5
}
